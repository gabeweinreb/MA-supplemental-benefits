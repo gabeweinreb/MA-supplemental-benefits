{
 "cells": [
  {
   "cell_type": "markdown",
   "metadata": {
    "heading_collapsed": true
   },
   "source": [
    "# Construct enrollment-by-bid datasets"
   ]
  },
  {
   "cell_type": "markdown",
   "metadata": {
    "hidden": true
   },
   "source": [
    "## 2021"
   ]
  },
  {
   "cell_type": "code",
   "execution_count": null,
   "metadata": {
    "hidden": true
   },
   "outputs": [],
   "source": [
    "# Import data\n",
    "\n",
    "df_Section_A = pd.read_csv('PBP Benefits 2021/pbp_Section_A.txt', sep='\\t', encoding = \"ISO-8859-1\", dtype='str')\n",
    "df_area = pd.read_csv('PBP Benefits 2021/PlanArea.txt', sep='\\t', encoding = \"ISO-8859-1\",  dtype='str')\n",
    "df_enrollment = pd.read_csv('CPSC_Enrollment_Info_2021_03.csv', encoding = \"ISO-8859-1\",  dtype='str')"
   ]
  },
  {
   "cell_type": "code",
   "execution_count": null,
   "metadata": {
    "hidden": true
   },
   "outputs": [],
   "source": [
    "# Add geographical footprint\n",
    "\n",
    "df_area = df_area.drop_duplicates(subset=['bid_id', 'county_code'])\n",
    "df = df_Section_A.merge(right=df_area[['bid_id', 'county_code']], on='bid_id', how='left')"
   ]
  },
  {
   "cell_type": "code",
   "execution_count": null,
   "metadata": {
    "hidden": true
   },
   "outputs": [],
   "source": [
    "# Add enrollment\n",
    "\n",
    "df_enrollment =df_enrollment[df_enrollment.Enrollment!='*']\n",
    "df_hmo = df[df.pbp_a_hnumber.str.slice(0,1)!='R']\n",
    "df_hmo = df_hmo.merge(right = df_enrollment, left_on = ['pbp_a_hnumber', 'pbp_a_plan_identifier', 'county_code'], \n",
    "             right_on = ['Contract Number', 'Plan ID', 'SSA State County Code'], how = 'left')\n",
    "df_ppo = df[df.pbp_a_hnumber.str.slice(0,1)=='R']\n",
    "df_ppo = df_ppo.merge(right = df_enrollment, left_on = ['pbp_a_hnumber', 'pbp_a_plan_identifier'], \n",
    "             right_on = ['Contract Number', 'Plan ID'], how = 'left')\n",
    "df = pd.concat([df_hmo,df_ppo])\n",
    "df=df[~df.Enrollment.isna()]\n",
    "df.Enrollment=pd.to_numeric(df.Enrollment)"
   ]
  },
  {
   "cell_type": "code",
   "execution_count": null,
   "metadata": {
    "hidden": true
   },
   "outputs": [],
   "source": [
    "# Enrollment by bid\n",
    "\n",
    "df_enrollment_2021 = df.groupby('bid_id').Enrollment.sum()"
   ]
  },
  {
   "cell_type": "markdown",
   "metadata": {
    "hidden": true
   },
   "source": [
    "## 2020"
   ]
  },
  {
   "cell_type": "code",
   "execution_count": 318,
   "metadata": {
    "hidden": true
   },
   "outputs": [],
   "source": [
    "# Import data\n",
    "\n",
    "df_Section_A = pd.read_csv('PBP Benefits 2020/pbp_Section_A.txt', sep='\\t', encoding = \"ISO-8859-1\", dtype='str')\n",
    "df_area = pd.read_csv('PBP Benefits 2020/PlanArea.txt', sep='\\t', encoding = \"ISO-8859-1\",  dtype='str')\n",
    "df_enrollment = pd.read_csv('CPSC_Enrollment_Info_2020_03.csv', encoding = \"ISO-8859-1\",  dtype='str')"
   ]
  },
  {
   "cell_type": "code",
   "execution_count": 319,
   "metadata": {
    "hidden": true
   },
   "outputs": [],
   "source": [
    "# Add geographical footprint\n",
    "\n",
    "df_area = df_area.drop_duplicates(subset=['bid_id', 'county_code'])\n",
    "df = df_Section_A.merge(right=df_area[['bid_id', 'county_code']], on='bid_id', how='left')"
   ]
  },
  {
   "cell_type": "code",
   "execution_count": 320,
   "metadata": {
    "hidden": true
   },
   "outputs": [],
   "source": [
    "# Add enrollment\n",
    "\n",
    "df_enrollment =df_enrollment[df_enrollment.Enrollment!='*']\n",
    "df_hmo = df[df.pbp_a_hnumber.str.slice(0,1)!='R']\n",
    "df_hmo = df_hmo.merge(right = df_enrollment, left_on = ['pbp_a_hnumber', 'pbp_a_plan_identifier', 'county_code'], \n",
    "             right_on = ['Contract Number', 'Plan ID', 'SSA State County Code'], how = 'left')\n",
    "df_ppo = df[df.pbp_a_hnumber.str.slice(0,1)=='R']\n",
    "df_ppo = df_ppo.merge(right = df_enrollment, left_on = ['pbp_a_hnumber', 'pbp_a_plan_identifier'], \n",
    "             right_on = ['Contract Number', 'Plan ID'], how = 'left')\n",
    "df = pd.concat([df_hmo,df_ppo])\n",
    "df=df[~df.Enrollment.isna()]\n",
    "df.Enrollment=pd.to_numeric(df.Enrollment)"
   ]
  },
  {
   "cell_type": "code",
   "execution_count": 321,
   "metadata": {
    "hidden": true
   },
   "outputs": [],
   "source": [
    "# Enrollment by bid\n",
    "\n",
    "df_enrollment_2020 = df.groupby('bid_id').Enrollment.sum()"
   ]
  },
  {
   "cell_type": "code",
   "execution_count": 322,
   "metadata": {
    "hidden": true
   },
   "outputs": [
    {
     "data": {
      "text/plain": [
       "24521203"
      ]
     },
     "execution_count": 322,
     "metadata": {},
     "output_type": "execute_result"
    }
   ],
   "source": [
    "df_enrollment_2020.sum()"
   ]
  },
  {
   "cell_type": "markdown",
   "metadata": {
    "heading_collapsed": true
   },
   "source": [
    "# Primarily health related"
   ]
  },
  {
   "cell_type": "markdown",
   "metadata": {
    "hidden": true
   },
   "source": [
    "## 2021"
   ]
  },
  {
   "cell_type": "markdown",
   "metadata": {
    "heading_collapsed": true,
    "hidden": true
   },
   "source": [
    "### All new benefits"
   ]
  },
  {
   "cell_type": "code",
   "execution_count": null,
   "metadata": {
    "hidden": true
   },
   "outputs": [],
   "source": [
    "#Import data\n",
    "\n",
    "df_Section_A = pd.read_csv('PBP Benefits 2021/pbp_Section_A.txt', sep='\\t', encoding = \"ISO-8859-1\", dtype='str')\n",
    "df_b14 = pd.read_csv('PBP Benefits 2021/pbp_b14_preventive.txt', sep='\\t', encoding = \"ISO-8859-1\",  dtype='str')\n",
    "df_b10 = pd.read_csv('PBP Benefits 2021/pbp_b10_amb_trans.txt', sep='\\t', encoding = \"ISO-8859-1\",  dtype='str')\n",
    "df_b13 = pd.read_csv('PBP Benefits 2021/pbp_b13_other_services.txt', sep='\\t', encoding = \"ISO-8859-1\",  dtype='str')"
   ]
  },
  {
   "cell_type": "code",
   "execution_count": null,
   "metadata": {
    "hidden": true
   },
   "outputs": [],
   "source": [
    "# Identify what plans have each benefit\n",
    "\n",
    "df_day_care = df_b14[df_b14.pbp_b14c_bendesc_ehc.str.contains(\"14c19;\", na=False)]\n",
    "df_palliative = df_b14[df_b14.pbp_b14c_bendesc_ehc.str.contains(\"14c20;\", na=False)]\n",
    "df_home_support = df_b14[df_b14.pbp_b14c_bendesc_ehc.str.contains(\"14c21;\", na=False)]\n",
    "df_caregiver_support = df_b14[df_b14.pbp_b14c_bendesc_ehc.str.contains(\"14c22;\", na=False)]\n",
    "df_pain_mgmt  = df_b14[df_b14.pbp_b14c_bendesc_ehc.str.contains(\"14c18;\", na=False)]\n",
    "df_home_mod = df_b14[df_b14.pbp_b14c_bendesc_ehc.str.contains(\"14c8;\", na=False)]\n",
    "df_transport = df_b10[df_b10.pbp_b10b_bendesc_yn=='1']\n",
    "df_otc = df_b13[df_b13.pbp_b13b_bendesc_otc=='1']\n",
    "l= [df_day_care, df_palliative, df_home_support, df_caregiver_support, df_pain_mgmt, df_home_mod, df_transport, df_otc]"
   ]
  },
  {
   "cell_type": "code",
   "execution_count": null,
   "metadata": {
    "hidden": true
   },
   "outputs": [],
   "source": [
    "# Create bid level benefits dataset\n",
    "\n",
    "df=df_Section_A\n",
    "df=df[df.pbp_a_hnumber.str.slice(0,1) !='S'] # get rid of PDPs\n",
    "for frame in l:\n",
    "    frame.name =[x for x in globals() if globals()[x] is frame][0]\n",
    "    name = 'stub_' + frame.name[3:]\n",
    "    df=df.merge(right=frame.bid_id, on='bid_id', how='left', indicator=name)\n",
    "    df[name] = df[name].replace(['both', 'left_only'],['1', '0'])"
   ]
  },
  {
   "cell_type": "code",
   "execution_count": null,
   "metadata": {
    "hidden": true
   },
   "outputs": [],
   "source": [
    "# Add enrollment\n",
    "\n",
    "df=df.merge(df_enrollment_2021, on='bid_id', how='left')"
   ]
  },
  {
   "cell_type": "code",
   "execution_count": null,
   "metadata": {
    "hidden": true
   },
   "outputs": [],
   "source": [
    "# Wide to long\n",
    "\n",
    "df=pd.wide_to_long(df, stubnames='stub_', i='bid_id', j='benefit', suffix= '\\D+').reset_index()"
   ]
  },
  {
   "cell_type": "code",
   "execution_count": null,
   "metadata": {
    "hidden": true
   },
   "outputs": [],
   "source": [
    "# Output plans (plan contract combo)\n",
    "\n",
    "df['plan']=df.bid_id.str.slice(0,9)\n",
    "df[df.stub_==\"1\"].groupby(['benefit']).plan.nunique().to_clipboard()"
   ]
  },
  {
   "cell_type": "code",
   "execution_count": null,
   "metadata": {
    "hidden": true
   },
   "outputs": [],
   "source": [
    "# Output enrollment\n",
    "\n",
    "df[df.stub_==\"1\"].groupby(['benefit']).Enrollment.sum().to_clipboard()"
   ]
  },
  {
   "cell_type": "markdown",
   "metadata": {
    "hidden": true
   },
   "source": [
    "### Deep-dive on in-home supports"
   ]
  },
  {
   "cell_type": "code",
   "execution_count": null,
   "metadata": {
    "hidden": true
   },
   "outputs": [],
   "source": [
    "df = pd.read_csv('PBP Benefits 2021/pbp_Section_A.txt', sep='\\t', encoding = \"ISO-8859-1\", dtype='str')\n",
    "df_b14 = pd.read_csv('PBP Benefits 2021/pbp_b14_preventive.txt', sep='\\t', encoding = \"ISO-8859-1\",  dtype='str')\n",
    "df_area = pd.read_csv('PBP Benefits 2021/PlanArea.txt', sep='\\t', encoding = \"ISO-8859-1\",  dtype='str')\n",
    "df_enrollment = pd.read_csv('CPSC_Enrollment_Info_2021_03.csv', encoding = \"ISO-8859-1\",  dtype='str')\n",
    "df_details = pd.read_csv('CPSC_Contract_Info_2021_03.csv', encoding = \"ISO-8859-1\",  dtype='str')"
   ]
  },
  {
   "cell_type": "code",
   "execution_count": null,
   "metadata": {
    "hidden": true
   },
   "outputs": [],
   "source": [
    "df_home_support = df_b14[df_b14.pbp_b14c_bendesc_ehc.str.contains(\"14c21;\", na=False)]\n",
    "df=df.merge(right=df_home_support.bid_id, on='bid_id', how='left', indicator='home_support')\n",
    "df.home_support= df.home_support.replace(['both', 'left_only'],[1, 0])"
   ]
  },
  {
   "cell_type": "code",
   "execution_count": null,
   "metadata": {
    "hidden": true
   },
   "outputs": [],
   "source": [
    "df_area = df_area.drop_duplicates(subset=['bid_id', 'county_code'])\n",
    "df = df.merge(right=df_area[['bid_id', 'county_code']], on='bid_id', how='left')"
   ]
  },
  {
   "cell_type": "code",
   "execution_count": null,
   "metadata": {
    "hidden": true
   },
   "outputs": [],
   "source": [
    "df_enrollment =df_enrollment[df_enrollment.Enrollment!='*']\n",
    "df_hmo = df[df.pbp_a_hnumber.str.slice(0,1)!='R']\n",
    "df_hmo = df_hmo.merge(right = df_enrollment, left_on = ['pbp_a_hnumber', 'pbp_a_plan_identifier', 'county_code'], \n",
    "             right_on = ['Contract Number', 'Plan ID', 'SSA State County Code'], how = 'left')\n",
    "df_hmo = df_hmo [~df_hmo.Enrollment.isna()]\n",
    "df_ppo = df[df.pbp_a_hnumber.str.slice(0,1)=='R']\n",
    "df_ppo = df_ppo.merge(right = df_enrollment, left_on = ['pbp_a_hnumber', 'pbp_a_plan_identifier'], \n",
    "             right_on = ['Contract Number', 'Plan ID'], how = 'left')\n",
    "df_ppo = df_ppo[~df_ppo.Enrollment.isna()]\n",
    "df = pd.concat([df_hmo,df_ppo])\n",
    "df.Enrollment = pd.to_numeric(df.Enrollment)"
   ]
  },
  {
   "cell_type": "code",
   "execution_count": null,
   "metadata": {
    "hidden": true
   },
   "outputs": [],
   "source": [
    "pd.options.display.max_rows = 4000\n",
    "df=df.merge(right=df_details, left_on=['pbp_a_hnumber', 'pbp_a_plan_identifier'], right_on=['Contract ID', 'Plan ID'], how='left')\n",
    "df.groupby(['Parent Organization']).Enrollment.sum()"
   ]
  },
  {
   "cell_type": "code",
   "execution_count": null,
   "metadata": {
    "hidden": true
   },
   "outputs": [],
   "source": [
    "df[df.home_support==1].groupby(['Parent Organization']).Enrollment.sum()"
   ]
  },
  {
   "cell_type": "code",
   "execution_count": null,
   "metadata": {
    "hidden": true
   },
   "outputs": [],
   "source": [
    "df=df[df['FIPS State County Code']=='12086']\n",
    "df.groupby(['Parent Organization']).Enrollment.sum()"
   ]
  },
  {
   "cell_type": "code",
   "execution_count": null,
   "metadata": {
    "hidden": true
   },
   "outputs": [],
   "source": [
    "df[df.home_support==1].groupby(['Parent Organization']).Enrollment.sum()"
   ]
  },
  {
   "cell_type": "markdown",
   "metadata": {
    "heading_collapsed": true,
    "hidden": true
   },
   "source": [
    "## 2020"
   ]
  },
  {
   "cell_type": "code",
   "execution_count": null,
   "metadata": {
    "hidden": true
   },
   "outputs": [],
   "source": [
    "#Import data\n",
    "\n",
    "df_Section_A = pd.read_csv('PBP Benefits 2020/pbp_Section_A.txt', sep='\\t', encoding = \"ISO-8859-1\", dtype='str')\n",
    "df_b14 = pd.read_csv('PBP Benefits 2020/pbp_b14_preventive.txt', sep='\\t', encoding = \"ISO-8859-1\",  dtype='str')\n",
    "df_b10 = pd.read_csv('PBP Benefits 2020/pbp_b10_amb_trans.txt', sep='\\t', encoding = \"ISO-8859-1\",  dtype='str')\n",
    "df_b13 = pd.read_csv('PBP Benefits 2020/pbp_b13_other_services.txt', sep='\\t', encoding = \"ISO-8859-1\",  dtype='str')"
   ]
  },
  {
   "cell_type": "code",
   "execution_count": null,
   "metadata": {
    "hidden": true
   },
   "outputs": [],
   "source": [
    "# Identify what plans have each benefit\n",
    "\n",
    "df_day_care = df_b14[df_b14.pbp_b14c_bendesc_ehc.str.contains(\"14c19;\", na=False)]\n",
    "df_palliative = df_b14[df_b14.pbp_b14c_bendesc_ehc.str.contains(\"14c20;\", na=False)]\n",
    "df_home_support = df_b14[df_b14.pbp_b14c_bendesc_ehc.str.contains(\"14c21;\", na=False)]\n",
    "df_caregiver_support = df_b14[df_b14.pbp_b14c_bendesc_ehc.str.contains(\"14c22;\", na=False)]\n",
    "df_pain_mgmt  = df_b14[df_b14.pbp_b14c_bendesc_ehc.str.contains(\"14c18;\", na=False)]\n",
    "df_home_mod = df_b14[df_b14.pbp_b14c_bendesc_ehc.str.contains(\"14c8;\", na=False)]\n",
    "df_transport = df_b10[df_b10.pbp_b10b_bendesc_yn=='1']\n",
    "df_otc = df_b13[df_b13.pbp_b13b_bendesc_otc=='1']\n",
    "l= [df_day_care, df_palliative, df_home_support, df_caregiver_support, df_pain_mgmt, df_home_mod, df_transport, df_otc]"
   ]
  },
  {
   "cell_type": "code",
   "execution_count": null,
   "metadata": {
    "hidden": true
   },
   "outputs": [],
   "source": [
    "# Create bid level benefits dataset\n",
    "\n",
    "df=df_Section_A\n",
    "df=df[df.pbp_a_hnumber.str.slice(0,1) !='S'] # get rid of PDPs\n",
    "for frame in l:\n",
    "    frame.name =[x for x in globals() if globals()[x] is frame][0]\n",
    "    name = 'stub_' + frame.name[3:]\n",
    "    df=df.merge(right=frame.bid_id, on='bid_id', how='left', indicator=name)\n",
    "    df[name] = df[name].replace(['both', 'left_only'],['1', '0'])"
   ]
  },
  {
   "cell_type": "code",
   "execution_count": null,
   "metadata": {
    "hidden": true
   },
   "outputs": [],
   "source": [
    "# Add enrollment\n",
    "\n",
    "df=df.merge(df_enrollment_2020, on='bid_id', how='left')"
   ]
  },
  {
   "cell_type": "code",
   "execution_count": null,
   "metadata": {
    "hidden": true
   },
   "outputs": [],
   "source": [
    "# Wide to long\n",
    "\n",
    "df=pd.wide_to_long(df, stubnames='stub_', i='bid_id', j='benefit', suffix= '\\D+').reset_index()"
   ]
  },
  {
   "cell_type": "code",
   "execution_count": null,
   "metadata": {
    "hidden": true
   },
   "outputs": [],
   "source": [
    "# Output enrollment\n",
    "\n",
    "df[df.stub_==\"1\"].groupby(['benefit']).Enrollment.sum().to_clipboard()"
   ]
  },
  {
   "cell_type": "markdown",
   "metadata": {
    "heading_collapsed": true
   },
   "source": [
    "# SSBCI"
   ]
  },
  {
   "cell_type": "markdown",
   "metadata": {
    "hidden": true
   },
   "source": [
    "## 2021"
   ]
  },
  {
   "cell_type": "markdown",
   "metadata": {
    "hidden": true
   },
   "source": [
    "### All benefits "
   ]
  },
  {
   "cell_type": "code",
   "execution_count": null,
   "metadata": {
    "hidden": true,
    "scrolled": true
   },
   "outputs": [],
   "source": [
    "#Import data\n",
    "\n",
    "df_b13_b19 = pd.read_csv('PBP Benefits 2021/pbp_b13i_b19b_services_vbid_ssbci.txt', sep='\\t', encoding = \"ISO-8859-1\",  dtype='str')"
   ]
  },
  {
   "cell_type": "code",
   "execution_count": null,
   "metadata": {
    "hidden": true
   },
   "outputs": [],
   "source": [
    "# Construct benefits dataset\n",
    "\n",
    "df=pd.DataFrame({'key':[y for x in [[l]*10 for l in df_b13_b19.pbp_b13i_bendesc] for y in x]})\n",
    "df['bid_id']=[y for x in [[l]*10 for l in df_b13_b19.bid_id] for y in x]\n",
    "df['benefit']=['General Supports for Living','Food and Produce','Meals (beyond limited basis)',\n",
    "'Pest Control','Transportation for Non-Medical Needs','Indoor Air Quality Equipment and Services',\n",
    "'Social Needs Benefit','Complementary Therapies','Services Supporting Self-Direction',\n",
    "'Structural Home Modifications']*df.bid_id.nunique()\n",
    "df['pos']=list(range(0,10))*df.bid_id.nunique()\n",
    "df['offered']=df.apply(lambda x: x['key'][x['pos']], axis=1)\n",
    "df=df[df.offered==\"1\"]"
   ]
  },
  {
   "cell_type": "code",
   "execution_count": null,
   "metadata": {
    "hidden": true
   },
   "outputs": [],
   "source": [
    "# Output plans (plan contract combo)\n",
    "\n",
    "df['plan']=df.bid_id.str.slice(0,9)\n",
    "df.groupby(['benefit']).plan.nunique().to_clipboard()"
   ]
  },
  {
   "cell_type": "code",
   "execution_count": null,
   "metadata": {
    "hidden": true
   },
   "outputs": [],
   "source": [
    "# Get enrollment by benefit\n",
    "\n",
    "df=df.merge(df_enrollment_2021, on='bid_id', how='inner')\n",
    "df.groupby('benefit').Enrollment.sum()#.to_clipboard()"
   ]
  },
  {
   "cell_type": "markdown",
   "metadata": {
    "heading_collapsed": true,
    "hidden": true
   },
   "source": [
    "### Deep dive on meals"
   ]
  },
  {
   "cell_type": "code",
   "execution_count": null,
   "metadata": {
    "hidden": true
   },
   "outputs": [],
   "source": [
    "# Narrow to bids with meal benefit and add enrollment\n",
    "\n",
    "df_meals=df_b13_b19[df_b13_b19.pbp_b13i_ml_bendesc_service==\"1\"]\n",
    "df_meals=df_meals.merge(df_enrollment_2021, on='bid_id', how='inner')"
   ]
  },
  {
   "cell_type": "code",
   "execution_count": null,
   "metadata": {
    "hidden": true
   },
   "outputs": [],
   "source": [
    "# Average days\n",
    "\n",
    "np.dot(pd.to_numeric(df_meals.pbp_b13i_ml_days),df_meals.Enrollment)/df_meals.Enrollment.sum()"
   ]
  },
  {
   "cell_type": "code",
   "execution_count": null,
   "metadata": {
    "hidden": true
   },
   "outputs": [],
   "source": [
    "# Average meals\n",
    "\n",
    "np.dot(pd.to_numeric(df_meals.pbp_b13i_ml_max_meals),df_meals.Enrollment)/df_meals.Enrollment.sum()"
   ]
  },
  {
   "cell_type": "code",
   "execution_count": null,
   "metadata": {
    "hidden": true
   },
   "outputs": [],
   "source": [
    "# Percent authorization\n",
    "\n",
    "df_meals[df_meals.pbp_b13i_ml_auth_yn=='1'].Enrollment.sum()/df_meals.Enrollment.sum()"
   ]
  },
  {
   "cell_type": "code",
   "execution_count": null,
   "metadata": {
    "hidden": true
   },
   "outputs": [],
   "source": [
    "# Percent referral\n",
    "\n",
    "df_meals[df_meals.pbp_b13i_ml_refer_yn=='1'].Enrollment.sum()/df_meals.Enrollment.sum()"
   ]
  },
  {
   "cell_type": "markdown",
   "metadata": {
    "hidden": true
   },
   "source": [
    "### Deep dive on transport"
   ]
  },
  {
   "cell_type": "code",
   "execution_count": null,
   "metadata": {
    "hidden": true
   },
   "outputs": [],
   "source": [
    "# Narrow to bids with transport benefit and add enrollment\n",
    "\n",
    "df_t=df_b13_b19[df_b13_b19.pbp_b13i_t_bendesc_yn==\"1\"]\n",
    "df_t=df_t.merge(df_enrollment_2021, on='bid_id', how='inner')"
   ]
  },
  {
   "cell_type": "markdown",
   "metadata": {
    "hidden": true
   },
   "source": [
    "#### Plan-approve only"
   ]
  },
  {
   "cell_type": "code",
   "execution_count": null,
   "metadata": {
    "hidden": true
   },
   "outputs": [],
   "source": [
    "# Percent plan-approved only\n",
    "\n",
    "df_t1=df_t[df_t.pbp_b13i_t_bendesc_trn=='1']\n",
    "df_t1.Enrollment.sum()/df_t.Enrollment.sum()"
   ]
  },
  {
   "cell_type": "code",
   "execution_count": null,
   "metadata": {
    "hidden": true
   },
   "outputs": [],
   "source": [
    "# Of that, percent limited\n",
    "\n",
    "df_t2=df_t1[df_t1.pbp_b13i_t_bendesc_lim_pal!='1']\n",
    "df_t2.Enrollment.sum()/df_t1.Enrollment.sum()"
   ]
  },
  {
   "cell_type": "code",
   "execution_count": null,
   "metadata": {
    "hidden": true
   },
   "outputs": [],
   "source": [
    "# Of limited (but not zero), average trips\n",
    "\n",
    "df_t3=df_t2[df_t2.pbp_b13i_t_bendesc_amt_pal!='0']\n",
    "pd.to_numeric(df_t3.pbp_b13i_t_bendesc_amt_pal).dot(df_t3.Enrollment)/df_t3.Enrollment.sum()"
   ]
  },
  {
   "cell_type": "code",
   "execution_count": null,
   "metadata": {
    "hidden": true
   },
   "outputs": [],
   "source": [
    "# Create transport mode dataset \n",
    "\n",
    "df_mode=pd.DataFrame({'key':[y for x in [[l]*6 for l in df_t1.pbp_b13i_t_bendesc_mt_pal] for y in x]})\n",
    "df_mode['bid_id']=[y for x in [[l]*6 for l in df_t1.bid_id] for y in x]\n",
    "df_mode['mode']=['Other', 'Taxi', 'Rideshare', 'Bus/subway', 'Van', 'Med transport']*len(df_t1)\n",
    "df_mode['pos']=list(range(0,6))*len(df_t1)\n",
    "df_mode['offered']= (df_mode.apply(lambda x: x['key'][x['pos']], axis=1) ==\"1\")*1\n",
    "df_mode= df_mode[df_mode.offered==1]"
   ]
  },
  {
   "cell_type": "code",
   "execution_count": null,
   "metadata": {
    "hidden": true
   },
   "outputs": [],
   "source": [
    "# Add enrollment and export\n",
    "\n",
    "df_mode=df_mode.merge(df_enrollment_2021, on='bid_id', how='inner')\n",
    "df_mode.groupby('mode').Enrollment.apply(lambda x: x.sum()/df_t1.Enrollment.sum()).to_clipboard()"
   ]
  },
  {
   "cell_type": "markdown",
   "metadata": {
    "hidden": true
   },
   "source": [
    "#### Any location"
   ]
  },
  {
   "cell_type": "code",
   "execution_count": null,
   "metadata": {
    "hidden": true
   },
   "outputs": [],
   "source": [
    "# Percent any location\n",
    "\n",
    "df_t1=df_t[df_t.pbp_b13i_t_bendesc_trn=='2']\n",
    "df_t1.Enrollment.sum()/df_t.Enrollment.sum()"
   ]
  },
  {
   "cell_type": "code",
   "execution_count": null,
   "metadata": {
    "hidden": true
   },
   "outputs": [],
   "source": [
    "# Of that, percent limited\n",
    "\n",
    "df_t2=df_t1[df_t1.pbp_b13i_t_bendesc_lim_al!='1']\n",
    "df_t2.Enrollment.sum()/df_t1.Enrollment.sum()"
   ]
  },
  {
   "cell_type": "code",
   "execution_count": null,
   "metadata": {
    "hidden": true
   },
   "outputs": [],
   "source": [
    "# Of limited (but not zero), average trips\n",
    "\n",
    "df_t3=df_t2[df_t2.pbp_b13i_t_bendesc_amt_al!='0']\n",
    "pd.to_numeric(df_t3.pbp_b13i_t_bendesc_amt_al).dot(df_t3.Enrollment)/df_t3.Enrollment.sum()"
   ]
  },
  {
   "cell_type": "code",
   "execution_count": null,
   "metadata": {
    "hidden": true
   },
   "outputs": [],
   "source": [
    "# Create transport mode dataset \n",
    "\n",
    "df_mode=pd.DataFrame({'key':[y for x in [[l]*6 for l in df_t1.pbp_b13i_t_bendesc_mt_al] for y in x]})\n",
    "df_mode['bid_id']=[y for x in [[l]*6 for l in df_t1.bid_id] for y in x]\n",
    "df_mode['mode']=['Other', 'Taxi', 'Rideshare', 'Bus/subway', 'Van', 'Med transport']*len(df_t1)\n",
    "df_mode['pos']=list(range(0,6))*len(df_t1)\n",
    "df_mode['offered']= (df_mode.apply(lambda x: x['key'][x['pos']], axis=1) ==\"1\")*1\n",
    "df_mode= df_mode[df_mode.offered==1]"
   ]
  },
  {
   "cell_type": "code",
   "execution_count": null,
   "metadata": {
    "hidden": true
   },
   "outputs": [],
   "source": [
    "# Add enrollment and export\n",
    "\n",
    "df_mode=df_mode.merge(df_enrollment_2021, on='bid_id', how='inner')\n",
    "df_mode.groupby('mode').Enrollment.apply(lambda x: x.sum()/df_t1.Enrollment.sum()).to_clipboard()"
   ]
  },
  {
   "cell_type": "markdown",
   "metadata": {
    "heading_collapsed": true,
    "hidden": true
   },
   "source": [
    "## 2020"
   ]
  },
  {
   "cell_type": "markdown",
   "metadata": {
    "hidden": true
   },
   "source": [
    "### All benefits "
   ]
  },
  {
   "cell_type": "code",
   "execution_count": null,
   "metadata": {
    "hidden": true,
    "scrolled": true
   },
   "outputs": [],
   "source": [
    "#Import data\n",
    "\n",
    "df_b13_b19 = pd.read_csv('PBP Benefits 2020/pbp_b13i_b19b_services_vbid_ssbci.txt', sep='\\t', encoding = \"ISO-8859-1\",  dtype='str')"
   ]
  },
  {
   "cell_type": "code",
   "execution_count": null,
   "metadata": {
    "hidden": true
   },
   "outputs": [],
   "source": [
    "# Construct benefits dataset\n",
    "\n",
    "df=pd.DataFrame({'key':[y for x in [[l]*10 for l in df_b13_b19.pbp_b13i_bendesc] for y in x]})\n",
    "df['bid_id']=[y for x in [[l]*10 for l in df_b13_b19.bid_id] for y in x]\n",
    "df['benefit']=['General Supports for Living','Food and Produce','Meals (beyond limited basis)',\n",
    "'Pest Control','Transportation for Non-Medical Needs','Indoor Air Quality Equipment and Services',\n",
    "'Social Needs Benefit','Complementary Therapies','Services Supporting Self-Direction',\n",
    "'Structural Home Modifications']*df.bid_id.nunique()\n",
    "df['pos']=list(range(0,10))*df.bid_id.nunique()\n",
    "df['offered']=df.apply(lambda x: x['key'][x['pos']], axis=1)\n",
    "df=df[df.offered==\"1\"]"
   ]
  },
  {
   "cell_type": "code",
   "execution_count": null,
   "metadata": {
    "hidden": true
   },
   "outputs": [],
   "source": [
    "# Count plans\n",
    "\n",
    "df.groupby(['benefit']).bid_id.count() #.to_clipboard()"
   ]
  },
  {
   "cell_type": "code",
   "execution_count": null,
   "metadata": {
    "hidden": true
   },
   "outputs": [],
   "source": [
    "# Get enrollment by benefit\n",
    "\n",
    "df=df.merge(df_enrollment_2020, on='bid_id', how='inner')\n",
    "df.groupby('benefit').Enrollment.sum()#.to_clipboard()"
   ]
  },
  {
   "cell_type": "markdown",
   "metadata": {
    "heading_collapsed": true
   },
   "source": [
    "# Telehealth"
   ]
  },
  {
   "cell_type": "markdown",
   "metadata": {
    "hidden": true
   },
   "source": [
    "## 2021"
   ]
  },
  {
   "cell_type": "code",
   "execution_count": 313,
   "metadata": {
    "hidden": true
   },
   "outputs": [],
   "source": [
    "# Import data and create dict to translate key\n",
    "\n",
    "df_b7 = pd.read_csv('PBP Benefits 2021/pbp_b7_health_prof.txt', sep='\\t', encoding = \"ISO-8859-1\",  dtype='str')\n",
    "df_key= pd.read_excel('PBP Benefits 2021/PBP_Benefits_2021_dictionary.xlsx')\n",
    "df_key=pd.DataFrame(df_key[df_key.NAME=='pbp_b7j_mc_bendesc_cats'].CODE_VALUES.str.split(':').tolist(), columns=['code', 'benefit'])"
   ]
  },
  {
   "cell_type": "code",
   "execution_count": 314,
   "metadata": {
    "hidden": true
   },
   "outputs": [],
   "source": [
    "# Construct benefit-level dataset\n",
    "\n",
    "df_b7=df_b7[['pbp_b7j_mc_bendesc_cats', 'bid_id']].dropna()\n",
    "df_b7['count'] = df_b7.pbp_b7j_mc_bendesc_cats.str.count(';')\n",
    "df_b7.pbp_b7j_mc_bendesc_cats = df_b7.pbp_b7j_mc_bendesc_cats.str.slice(0,-1)\n",
    "df_b7.pbp_b7j_mc_bendesc_cats = df_b7.pbp_b7j_mc_bendesc_cats.str.split(';')\n",
    "list_of_rows=[df_b7.loc[i] for i in df_b7.index]\n",
    "df=pd.DataFrame({'code':[x for y in df_b7.pbp_b7j_mc_bendesc_cats for x in y],\n",
    "                 'bid_id':[x for y in [[row['bid_id']]*row['count'] for row in list_of_rows] for x in y]})\n",
    "df=df.merge(df_key, on='code', how='left')"
   ]
  },
  {
   "cell_type": "code",
   "execution_count": 315,
   "metadata": {
    "hidden": true
   },
   "outputs": [],
   "source": [
    "# Output plans (plan contract combo)\n",
    "\n",
    "df['plan']=df.bid_id.str.slice(0,9)\n",
    "df.groupby('benefit').plan.nunique().to_clipboard()"
   ]
  },
  {
   "cell_type": "code",
   "execution_count": 316,
   "metadata": {
    "hidden": true
   },
   "outputs": [],
   "source": [
    "# Add enrollment and export\n",
    "\n",
    "df= df.join(df_enrollment_2021, on='bid_id', how='left')\n",
    "df.groupby('benefit').Enrollment.sum().to_clipboard()"
   ]
  },
  {
   "cell_type": "markdown",
   "metadata": {
    "hidden": true
   },
   "source": [
    "### Deep dive on Individual sessions for mental health specialty services"
   ]
  },
  {
   "cell_type": "code",
   "execution_count": null,
   "metadata": {
    "hidden": true
   },
   "outputs": [],
   "source": [
    "# Import data\n",
    "\n",
    "df_area = pd.read_csv('PBP Benefits 2021/PlanArea.txt', sep='\\t', encoding = \"ISO-8859-1\",  dtype='str')\n",
    "df_enrollment = pd.read_csv('CPSC_Enrollment_Info_2021_03.csv', encoding = \"ISO-8859-1\",  dtype='str')\n",
    "df_enrollment.Enrollment = pd.to_numeric(df_enrollment.Enrollment, errors='coerce')\n",
    "df_enrollment=df_enrollment.dropna()"
   ]
  },
  {
   "cell_type": "code",
   "execution_count": null,
   "metadata": {
    "hidden": true
   },
   "outputs": [],
   "source": [
    "# Get bids offering benefit\n",
    "\n",
    "df=df_b7[['pbp_a_hnumber','pbp_a_plan_identifier','bid_id', 'pbp_b7j_mc_bendesc_cats']]\n",
    "df=df.dropna()\n",
    "df=df[df.pbp_b7j_mc_bendesc_cats.str.contains(\"7e1;\")]"
   ]
  },
  {
   "cell_type": "code",
   "execution_count": null,
   "metadata": {
    "hidden": true
   },
   "outputs": [],
   "source": [
    "# Add enrollment by county\n",
    "\n",
    "df_hmo=df[df.bid_id.str.slice(0,1)!=\"R\"]\n",
    "df_hmo = df_hmo.merge(right=df_area[['bid_id', 'county_code']], on='bid_id', how='left')\n",
    "df_hmo = df_hmo.merge(right = df_enrollment, left_on = ['pbp_a_hnumber', 'pbp_a_plan_identifier', 'county_code'], \n",
    "             right_on = ['Contract Number', 'Plan ID', 'SSA State County Code'], how = 'inner')\n",
    "\n",
    "df_ppo=df[df.bid_id.str.slice(0,1)==\"R\"]\n",
    "df_ppo = df_ppo.merge(right = df_enrollment, left_on = ['pbp_a_hnumber', 'pbp_a_plan_identifier'], \n",
    "             right_on = ['Contract Number', 'Plan ID'], how = 'inner')\n",
    "df=pd.concat([df_hmo,df_ppo])"
   ]
  },
  {
   "cell_type": "code",
   "execution_count": null,
   "metadata": {
    "hidden": true
   },
   "outputs": [],
   "source": [
    "# Export\n",
    "\n",
    "df.groupby('FIPS State County Code').Enrollment.sum().to_clipboard()"
   ]
  },
  {
   "cell_type": "markdown",
   "metadata": {
    "hidden": true
   },
   "source": [
    "## 2020"
   ]
  },
  {
   "cell_type": "code",
   "execution_count": 309,
   "metadata": {
    "hidden": true
   },
   "outputs": [],
   "source": [
    "# Import data and create dict to translate key\n",
    "\n",
    "df_b7 = pd.read_csv('PBP Benefits 2020/pbp_b7_health_prof.txt', sep='\\t', encoding = \"ISO-8859-1\",  dtype='str')\n",
    "df_key= pd.read_excel('PBP Benefits 2020/PBP_Benefits_2020_dictionary.xlsx')\n",
    "df_key=pd.DataFrame(df_key[df_key.NAME=='pbp_b7j_mc_bendesc_cats'].CODE_VALUES.str.split(':').tolist(), columns=['code', 'benefit'])"
   ]
  },
  {
   "cell_type": "code",
   "execution_count": 310,
   "metadata": {
    "hidden": true
   },
   "outputs": [],
   "source": [
    "# Construct benefit-level dataset\n",
    "\n",
    "df_b7=df_b7[['pbp_b7j_mc_bendesc_cats', 'bid_id']].dropna()\n",
    "df_b7['count'] = df_b7.pbp_b7j_mc_bendesc_cats.str.count(';')\n",
    "df_b7.pbp_b7j_mc_bendesc_cats = df_b7.pbp_b7j_mc_bendesc_cats.str.slice(0,-1)\n",
    "df_b7.pbp_b7j_mc_bendesc_cats = df_b7.pbp_b7j_mc_bendesc_cats.str.split(';')\n",
    "list_of_rows=[df_b7.loc[i] for i in df_b7.index]\n",
    "df=pd.DataFrame({'code':[x for y in df_b7.pbp_b7j_mc_bendesc_cats for x in y],\n",
    "                 'bid_id':[x for y in [[row['bid_id']]*row['count'] for row in list_of_rows] for x in y]})\n",
    "df=df.merge(df_key, on='code', how='left')"
   ]
  },
  {
   "cell_type": "code",
   "execution_count": 311,
   "metadata": {
    "hidden": true
   },
   "outputs": [],
   "source": [
    "# Output plans (plan contract combo)\n",
    "\n",
    "df['plan']=df.bid_id.str.slice(0,9)\n",
    "df.groupby('benefit').plan.nunique().to_clipboard()"
   ]
  },
  {
   "cell_type": "code",
   "execution_count": 312,
   "metadata": {
    "hidden": true
   },
   "outputs": [],
   "source": [
    "# Add enrollment and export\n",
    "\n",
    "df= df.join(df_enrollment_2020, on='bid_id', how='left')\n",
    "df.groupby('benefit').Enrollment.sum().to_clipboard()"
   ]
  },
  {
   "cell_type": "markdown",
   "metadata": {
    "hidden": true
   },
   "source": [
    "### Deep dive on Individual sessions for mental health specialty services"
   ]
  },
  {
   "cell_type": "code",
   "execution_count": null,
   "metadata": {
    "hidden": true
   },
   "outputs": [],
   "source": [
    "# Import data\n",
    "\n",
    "df_area = pd.read_csv('PBP Benefits 2020/PlanArea.txt', sep='\\t', encoding = \"ISO-8859-1\",  dtype='str')\n",
    "df_enrollment = pd.read_csv('CPSC_Enrollment_Info_2020_03.csv', encoding = \"ISO-8859-1\",  dtype='str')\n",
    "df_enrollment.Enrollment = pd.to_numeric(df_enrollment.Enrollment, errors='coerce')\n",
    "df_enrollment=df_enrollment.dropna()"
   ]
  },
  {
   "cell_type": "code",
   "execution_count": null,
   "metadata": {
    "hidden": true
   },
   "outputs": [],
   "source": [
    "# Get bids offering benefit\n",
    "\n",
    "df=df_b7[['pbp_a_hnumber','pbp_a_plan_identifier','bid_id', 'pbp_b7j_mc_bendesc_cats']]\n",
    "df=df.dropna()\n",
    "df=df[df.pbp_b7j_mc_bendesc_cats.str.contains(\"7e1;\")]"
   ]
  },
  {
   "cell_type": "code",
   "execution_count": null,
   "metadata": {
    "hidden": true
   },
   "outputs": [],
   "source": [
    "# Add enrollment by county\n",
    "\n",
    "df_hmo=df[df.bid_id.str.slice(0,1)!=\"R\"]\n",
    "df_hmo = df.merge(right=df_area[['bid_id', 'county_code']], on='bid_id', how='left')\n",
    "df_hmo = df_hmo.merge(right = df_enrollment, left_on = ['pbp_a_hnumber', 'pbp_a_plan_identifier', 'county_code'], \n",
    "             right_on = ['Contract Number', 'Plan ID', 'SSA State County Code'], how = 'inner')\n",
    "\n",
    "df_ppo=df[df.bid_id.str.slice(0,1)==\"R\"]\n",
    "df_ppo = df_ppo.merge(right = df_enrollment, left_on = ['pbp_a_hnumber', 'pbp_a_plan_identifier'], \n",
    "             right_on = ['Contract Number', 'Plan ID'], how = 'inner')\n",
    "df=pd.concat([df_hmo,df_ppo])"
   ]
  },
  {
   "cell_type": "code",
   "execution_count": null,
   "metadata": {
    "hidden": true
   },
   "outputs": [],
   "source": [
    "#Export\n",
    "\n",
    "df.groupby('FIPS State County Code').Enrollment.sum().to_clipboard()"
   ]
  },
  {
   "cell_type": "markdown",
   "metadata": {
    "heading_collapsed": true
   },
   "source": [
    "# Traditional benefits "
   ]
  },
  {
   "cell_type": "code",
   "execution_count": 175,
   "metadata": {
    "hidden": true
   },
   "outputs": [],
   "source": [
    "#Import data\n",
    "\n",
    "df_b14 = pd.read_csv('PBP Benefits 2021/pbp_b14_preventive.txt', sep='\\t', encoding = \"ISO-8859-1\",  dtype='str')\n",
    "df_b16 = pd.read_csv('PBP Benefits 2021/pbp_b16_dental.txt', sep='\\t', encoding = \"ISO-8859-1\",  dtype='str')\n",
    "df_b17 = pd.read_csv('PBP Benefits 2021/pbp_b17_eye_exams_wear.txt', sep='\\t', encoding = \"ISO-8859-1\",  dtype='str')\n",
    "df_b18 = pd.read_csv('PBP Benefits 2021/pbp_b18_hearing_exams_aids.txt', sep='\\t', encoding = \"ISO-8859-1\",  dtype='str')"
   ]
  },
  {
   "cell_type": "code",
   "execution_count": 165,
   "metadata": {
    "hidden": true,
    "scrolled": true
   },
   "outputs": [],
   "source": [
    "# Isolate bids with each benefit and construct benefits dataset\n",
    "\n",
    "fitness=df_b14[df_b14.pbp_b14c_bendesc_ehc.str.contains('14c4;',na=False)].bid_id\n",
    "dental=df_b16[(df_b16.pbp_b16a_bendesc_yn=='1')| (df_b16.pbp_b16b_bendesc_yn=='1')].bid_id\n",
    "vision=df_b17[(df_b17.pbp_b17a_bendesc_yn=='1')| (df_b17.pbp_b17b_bendesc_yn=='1')].bid_id\n",
    "hearing=df_b18[(df_b18.pbp_b18a_bendesc_yn=='1')|(df_b18.pbp_b18b_bendesc_yn=='1')].bid_id\n",
    "\n",
    "df=pd.DataFrame(columns=['bid_id', 'benefit'])\n",
    "for bene in ['fitness', 'dental', 'vision', 'hearing']:\n",
    "    df=pd.concat([df,pd.DataFrame({'bid_id' : globals()[bene], 'benefit': [bene]*len(globals()[bene])})])"
   ]
  },
  {
   "cell_type": "code",
   "execution_count": 166,
   "metadata": {
    "hidden": true
   },
   "outputs": [],
   "source": [
    "# Add enrollment\n",
    "\n",
    "df=df.merge(df_enrollment_2021, on='bid_id',how='left')"
   ]
  },
  {
   "cell_type": "code",
   "execution_count": 169,
   "metadata": {
    "hidden": true
   },
   "outputs": [
    {
     "data": {
      "text/plain": [
       "benefit\n",
       "dental     0.759824\n",
       "fitness    0.742343\n",
       "hearing    0.779285\n",
       "vision     0.803471\n",
       "Name: Enrollment, dtype: float64"
      ]
     },
     "execution_count": 169,
     "metadata": {},
     "output_type": "execute_result"
    }
   ],
   "source": [
    "df.groupby('benefit').Enrollment.sum()/ df_enrollment_2021.sum()"
   ]
  },
  {
   "cell_type": "code",
   "execution_count": 172,
   "metadata": {
    "hidden": true
   },
   "outputs": [
    {
     "data": {
      "text/plain": [
       "benefit\n",
       "dental     0.805765\n",
       "fitness    0.815438\n",
       "hearing    0.828787\n",
       "vision     0.871735\n",
       "Name: plan, dtype: float64"
      ]
     },
     "execution_count": 172,
     "metadata": {},
     "output_type": "execute_result"
    }
   ],
   "source": [
    "# Output plans (plan contract combo)\n",
    "\n",
    "df['plan']=df.bid_id.str.slice(0,9)\n",
    "df.groupby(['benefit']).plan.nunique()/len(df_enrollment_2021)"
   ]
  },
  {
   "cell_type": "code",
   "execution_count": null,
   "metadata": {
    "hidden": true
   },
   "outputs": [],
   "source": [
    "[df]*3"
   ]
  },
  {
   "cell_type": "code",
   "execution_count": null,
   "metadata": {
    "hidden": true
   },
   "outputs": [],
   "source": []
  },
  {
   "cell_type": "code",
   "execution_count": null,
   "metadata": {
    "hidden": true
   },
   "outputs": [],
   "source": []
  }
 ],
 "metadata": {
  "kernelspec": {
   "display_name": "Python 3",
   "language": "python",
   "name": "python3"
  },
  "language_info": {
   "codemirror_mode": {
    "name": "ipython",
    "version": 3
   },
   "file_extension": ".py",
   "mimetype": "text/x-python",
   "name": "python",
   "nbconvert_exporter": "python",
   "pygments_lexer": "ipython3",
   "version": "3.8.5"
  }
 },
 "nbformat": 4,
 "nbformat_minor": 4
}
